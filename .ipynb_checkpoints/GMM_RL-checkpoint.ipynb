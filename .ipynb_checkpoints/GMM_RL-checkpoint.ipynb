{
 "cells": [
  {
   "cell_type": "code",
   "execution_count": null,
   "metadata": {},
   "outputs": [],
   "source": [
    "import numpy as np\n",
    "from sklearn.mixture import GaussianMixture\n",
    "import matplotlib.pyplot as plt\n",
    "import torch\n",
    "import torch.nn as nn\n",
    "import torch.nn.functional as F\n",
    "from torch.distributions import Categorical\n",
    "\n",
    "import torch.optim as optim\n",
    "from itertools import count\n",
    "import sys; sys.path.append('../utils/'); from ggnn import Propagator"
   ]
  },
  {
   "cell_type": "code",
   "execution_count": 2,
   "metadata": {},
   "outputs": [],
   "source": [
    "def gen_mix_mvn(n_components=30, d=2, n_samples=400):\n",
    "    # Generate random multivariate Gaussians\n",
    "    pi = np.random.dirichlet([0.8]*n_components)\n",
    "    mu = np.random.multivariate_normal(np.zeros(d), np.eye(d)*25, size=(n_components))\n",
    "    mu = np.random.rand(n_components, d) * 10 - 5\n",
    "    sigma = np.zeros((n_components, d, d))\n",
    "    for n in range(n_components):\n",
    "        _tmpmat = np.random.rand(d,d)\n",
    "        Q, _junk = np.linalg.qr(_tmpmat)\n",
    "        lam = np.random.exponential(1, d)\n",
    "        sigma[n] = np.matmul(np.matmul(Q,np.diag(lam)),Q.T)\n",
    "\n",
    "    # Draw samples\n",
    "    z = np.random.multinomial(n_samples, pi)\n",
    "    smps = np.zeros((n_samples, d))\n",
    "    indexes = np.stack((np.cumsum(np.concatenate(([0], z[:-1]))),\n",
    "                        np.cumsum(z)), axis=1)\n",
    "    for ixs, n, m, s in zip(indexes, z, mu, sigma):\n",
    "        smps[slice(*ixs)] = np.random.multivariate_normal(m, s, size=n)\n",
    "    \n",
    "    return smps, (pi, mu, sigma)"
   ]
  },
  {
   "cell_type": "code",
   "execution_count": 3,
   "metadata": {},
   "outputs": [],
   "source": [
    "n_components = 30   # number of Gaussians in original mixture\n",
    "n_approx = 5        # number of Gaussians to approximate with\n",
    "n_samples = 800     # number of samples to draw from mixture for visualisation.\n",
    "\n",
    "# generate random Gaussian mixture\n",
    "smps, pars = gen_mix_mvn(30, n_samples=n_samples)\n",
    "\n"
   ]
  },
  {
   "cell_type": "code",
   "execution_count": 4,
   "metadata": {},
   "outputs": [],
   "source": [
    "torch.set_default_dtype(torch.double)"
   ]
  },
  {
   "cell_type": "code",
   "execution_count": 91,
   "metadata": {},
   "outputs": [],
   "source": [
    "class Policy(nn.Module):\n",
    "    def __init__(self, n_steps, n_dim, state_dim, annotation_dim, global_dim, global_annotation_dim):\n",
    "        \"\"\"\n",
    "        n_steps: number of message passing rounds\n",
    "        \"\"\"\n",
    "        super(Policy, self).__init__()\n",
    "        \n",
    "        self.n_steps = n_steps\n",
    "        self.n_dim = n_dim\n",
    "        self.state_dim = state_dim\n",
    "        self.annotation_dim = annotation_dim\n",
    "        self.global_dim = global_dim\n",
    "        self.global_annotation_dim = global_annotation_dim\n",
    "\n",
    "        \n",
    "        self.propagator = Propagator(state_dim)\n",
    "        \n",
    "        self.out = nn.Sequential(\n",
    "            nn.Linear(global_annotation_dim + n_dim * state_dim,1),\n",
    "#             nn.Tanh(),\n",
    "#             nn.Linear(global_dim, 1)\n",
    "        )\n",
    "        \n",
    "        self.saved_log_probs = []\n",
    "        self.rewards =[]\n",
    "    def forward(self, pars):\n",
    "        \"\"\"\n",
    "        pars: pi, mu, sigma \n",
    "        \"\"\"\n",
    "\n",
    "        n_components = len(pars[0])\n",
    "        prop_state = []\n",
    "        component_score = torch.zeros(1,n_components)\n",
    "        for i in range(n_components):\n",
    "            # prepare input\n",
    "            annotations = torch.zeros(self.n_dim, self.annotation_dim, )\n",
    "            annotations[:,0] = torch.from_numpy(pars[1][i])\n",
    "            padding = torch.zeros(self.n_dim, self.state_dim - self.annotation_dim)\n",
    "            state = torch.cat((annotations,padding), dim = 1)\n",
    "            \n",
    "            # adjacency matrix\n",
    "            sigma = torch.from_numpy(pars[2][i])\n",
    "            \n",
    "            # message passing GRU type\n",
    "            for t in range(self.n_steps):\n",
    "                state = self.propagator(state, sigma)\n",
    "\n",
    "            prop_state.append(state)\n",
    "\n",
    "            # prediction\n",
    "            global_state = torch.cat((torch.Tensor([[pars[0][i]]]), state.reshape(1,-1) ), dim=1)\n",
    "            component_score[0,i] = self.out(global_state).item()\n",
    "\n",
    "\n",
    "        return F.softmax(component_score, dim =1)\n",
    "\n",
    "\n"
   ]
  },
  {
   "cell_type": "code",
   "execution_count": 92,
   "metadata": {
    "scrolled": true
   },
   "outputs": [
    {
     "data": {
      "text/plain": [
       "Policy(\n",
       "  (propagator): Propagator(\n",
       "    (reset_gate): Sequential(\n",
       "      (0): Linear(in_features=8, out_features=4, bias=True)\n",
       "      (1): Sigmoid()\n",
       "    )\n",
       "    (update_gate): Sequential(\n",
       "      (0): Linear(in_features=8, out_features=4, bias=True)\n",
       "      (1): Sigmoid()\n",
       "    )\n",
       "    (transform): Sequential(\n",
       "      (0): Linear(in_features=8, out_features=4, bias=True)\n",
       "      (1): Tanh()\n",
       "    )\n",
       "  )\n",
       "  (out): Sequential(\n",
       "    (0): Linear(in_features=9, out_features=1, bias=True)\n",
       "  )\n",
       ")"
      ]
     },
     "execution_count": 92,
     "metadata": {},
     "output_type": "execute_result"
    }
   ],
   "source": [
    "# GNN\n",
    "n_steps = 4\n",
    "global_dim = 4\n",
    "global_annotation_dim = 1\n",
    "n_dim = 2\n",
    "state_dim = 4\n",
    "annotation_dim = 1\n",
    "\n",
    "\n",
    "\n",
    "policy = Policy(n_steps, n_dim, state_dim, annotation_dim, global_dim, global_annotation_dim)\n",
    "policy.double()"
   ]
  },
  {
   "cell_type": "code",
   "execution_count": 135,
   "metadata": {
    "scrolled": false
   },
   "outputs": [],
   "source": [
    "def select_action(pars, n_approx):\n",
    "    probs = policy(pars)\n",
    "    m = Categorical(probs)\n",
    "    n_ = 0\n",
    "    sampled = []\n",
    "    for _ in count():\n",
    "        action = m.sample()\n",
    "        if action.item() not in sampled:\n",
    "            policy.saved_log_probs.append(m.log_prob(action))\n",
    "            n_ += 1\n",
    "            sampled.append(action.item())\n",
    "        if n_== n_approx:\n",
    "            break\n",
    "    return sampled\n",
    "\n",
    "\n",
    "def select_1action(pars):\n",
    "    probs = policy(pars)\n",
    "    m =Categorical(probs)\n",
    "    action = m.sample()\n",
    "    policy.saved_log_probs.append(m.log_prob(action))\n",
    "    return action.item()\n"
   ]
  },
  {
   "cell_type": "code",
   "execution_count": 130,
   "metadata": {},
   "outputs": [],
   "source": [
    "# KL divergence calculation\n",
    "def calc_prob(x, pars):\n",
    "    n_dim = len(x)\n",
    "    n_mix = len(pars[0])\n",
    "    prob = 0\n",
    "    for m in range(n_mix):\n",
    "        sigma_inv = np.linalg.inv(pars[2][m])\n",
    "        _a = np.exp(-np.dot(x - pars[1][m], np.dot(sigma_inv, x - pars[1][m]))/2)\n",
    "        _a = _a / (np.sqrt(2*np.pi)**n_dim * np.sqrt(np.linalg.det(pars[2][m])))\n",
    "        prob += pars[0][m] * _a\n",
    "    \n",
    "    return prob\n",
    "\n",
    "\n",
    "def calc_kl_from_samples(sample, pars1, pars2):\n",
    "    kl = 0\n",
    "    for i in sample:\n",
    "        p = calc_prob(i, pars1)\n",
    "        q = calc_prob(i, pars2)\n",
    "        if q > 1e-10:\n",
    "            kl += p * (np.log(p) - np.log(q))\n",
    "    return kl\n"
   ]
  },
  {
   "cell_type": "code",
   "execution_count": 133,
   "metadata": {},
   "outputs": [],
   "source": [
    "def calc_reward(pars, indices):\n",
    "    ixs_top4 = indices\n",
    "    ixs_other = np.array(list(set(np.argsort(pars[0])) - set(ixs_top4)))\n",
    "    pi_approx = np.concatenate((pars[0][ixs_top4], [sum(pars[0][ixs_other])]))\n",
    "    mu_approx = pars[1][ixs_top4]\n",
    "    mu_other = np.dot(pars[0][ixs_other], pars[1][ixs_other])/pi_approx[-1]\n",
    "    sigma_approx = pars[2][ixs_top4]\n",
    "    sigma_other = -np.outer(mu_other, mu_other)\n",
    "    for i in ixs_other:\n",
    "        sigma_other += pars[0][i] * (pars[2][i] + np.outer(pars[1][i], pars[1][i]))\n",
    "\n",
    "    mu_approx = np.concatenate((mu_approx, mu_other[None,:]), axis=0)\n",
    "    sigma_approx = np.concatenate((sigma_approx, sigma_other[None,:]), axis=0)\n",
    "    \n",
    "    approx_pars = (pi_approx, mu_approx, sigma_approx)\n",
    "    kl = calc_kl_from_samples(smps, pars, approx_pars)\n",
    "    return kl\n",
    "    "
   ]
  },
  {
   "cell_type": "code",
   "execution_count": 148,
   "metadata": {},
   "outputs": [],
   "source": [
    "del policy.saved_log_probs[:]\n",
    "del policy.rewards[:]"
   ]
  },
  {
   "cell_type": "code",
   "execution_count": 149,
   "metadata": {},
   "outputs": [],
   "source": [
    "n_approx = 2\n",
    "mix = select_1action(pars)\n",
    "reward = calc_reward(pars, [mix])\n",
    "policy.rewards.append(reward)"
   ]
  },
  {
   "cell_type": "code",
   "execution_count": 150,
   "metadata": {},
   "outputs": [
    {
     "ename": "RuntimeError",
     "evalue": "element 0 of tensors does not require grad and does not have a grad_fn",
     "output_type": "error",
     "traceback": [
      "\u001b[0;31m---------------------------------------------------------------------------\u001b[0m",
      "\u001b[0;31mRuntimeError\u001b[0m                              Traceback (most recent call last)",
      "\u001b[0;32m<ipython-input-150-9796a64a5241>\u001b[0m in \u001b[0;36m<module>\u001b[0;34m()\u001b[0m\n\u001b[1;32m      4\u001b[0m \u001b[0mloss\u001b[0m \u001b[0;34m=\u001b[0m \u001b[0mpolicy\u001b[0m\u001b[0;34m.\u001b[0m\u001b[0msaved_log_probs\u001b[0m\u001b[0;34m[\u001b[0m\u001b[0;36m0\u001b[0m\u001b[0;34m]\u001b[0m \u001b[0;34m*\u001b[0m \u001b[0mpolicy\u001b[0m\u001b[0;34m.\u001b[0m\u001b[0mrewards\u001b[0m\u001b[0;34m[\u001b[0m\u001b[0;36m0\u001b[0m\u001b[0;34m]\u001b[0m\u001b[0;34m\u001b[0m\u001b[0m\n\u001b[1;32m      5\u001b[0m \u001b[0moptimizer\u001b[0m\u001b[0;34m.\u001b[0m\u001b[0mzero_grad\u001b[0m\u001b[0;34m(\u001b[0m\u001b[0;34m)\u001b[0m\u001b[0;34m\u001b[0m\u001b[0m\n\u001b[0;32m----> 6\u001b[0;31m \u001b[0mloss\u001b[0m\u001b[0;34m.\u001b[0m\u001b[0mbackward\u001b[0m\u001b[0;34m(\u001b[0m\u001b[0;34m)\u001b[0m\u001b[0;34m\u001b[0m\u001b[0m\n\u001b[0m\u001b[1;32m      7\u001b[0m \u001b[0moptimizer\u001b[0m\u001b[0;34m.\u001b[0m\u001b[0mstep\u001b[0m\u001b[0;34m(\u001b[0m\u001b[0;34m)\u001b[0m\u001b[0;34m\u001b[0m\u001b[0m\n",
      "\u001b[0;32m/Users/pgupta/.pyenv/versions/2.7.13/Python.framework/Versions/2.7/lib/python2.7/site-packages/torch/tensor.pyc\u001b[0m in \u001b[0;36mbackward\u001b[0;34m(self, gradient, retain_graph, create_graph)\u001b[0m\n\u001b[1;32m     91\u001b[0m                 \u001b[0mproducts\u001b[0m\u001b[0;34m.\u001b[0m \u001b[0mDefaults\u001b[0m \u001b[0mto\u001b[0m \u001b[0;34m`\u001b[0m\u001b[0;34m`\u001b[0m\u001b[0mFalse\u001b[0m\u001b[0;34m`\u001b[0m\u001b[0;34m`\u001b[0m\u001b[0;34m.\u001b[0m\u001b[0;34m\u001b[0m\u001b[0m\n\u001b[1;32m     92\u001b[0m         \"\"\"\n\u001b[0;32m---> 93\u001b[0;31m         \u001b[0mtorch\u001b[0m\u001b[0;34m.\u001b[0m\u001b[0mautograd\u001b[0m\u001b[0;34m.\u001b[0m\u001b[0mbackward\u001b[0m\u001b[0;34m(\u001b[0m\u001b[0mself\u001b[0m\u001b[0;34m,\u001b[0m \u001b[0mgradient\u001b[0m\u001b[0;34m,\u001b[0m \u001b[0mretain_graph\u001b[0m\u001b[0;34m,\u001b[0m \u001b[0mcreate_graph\u001b[0m\u001b[0;34m)\u001b[0m\u001b[0;34m\u001b[0m\u001b[0m\n\u001b[0m\u001b[1;32m     94\u001b[0m \u001b[0;34m\u001b[0m\u001b[0m\n\u001b[1;32m     95\u001b[0m     \u001b[0;32mdef\u001b[0m \u001b[0mregister_hook\u001b[0m\u001b[0;34m(\u001b[0m\u001b[0mself\u001b[0m\u001b[0;34m,\u001b[0m \u001b[0mhook\u001b[0m\u001b[0;34m)\u001b[0m\u001b[0;34m:\u001b[0m\u001b[0;34m\u001b[0m\u001b[0m\n",
      "\u001b[0;32m/Users/pgupta/.pyenv/versions/2.7.13/Python.framework/Versions/2.7/lib/python2.7/site-packages/torch/autograd/__init__.pyc\u001b[0m in \u001b[0;36mbackward\u001b[0;34m(tensors, grad_tensors, retain_graph, create_graph, grad_variables)\u001b[0m\n\u001b[1;32m     87\u001b[0m     Variable._execution_engine.run_backward(\n\u001b[1;32m     88\u001b[0m         \u001b[0mtensors\u001b[0m\u001b[0;34m,\u001b[0m \u001b[0mgrad_tensors\u001b[0m\u001b[0;34m,\u001b[0m \u001b[0mretain_graph\u001b[0m\u001b[0;34m,\u001b[0m \u001b[0mcreate_graph\u001b[0m\u001b[0;34m,\u001b[0m\u001b[0;34m\u001b[0m\u001b[0m\n\u001b[0;32m---> 89\u001b[0;31m         allow_unreachable=True)  # allow_unreachable flag\n\u001b[0m\u001b[1;32m     90\u001b[0m \u001b[0;34m\u001b[0m\u001b[0m\n\u001b[1;32m     91\u001b[0m \u001b[0;34m\u001b[0m\u001b[0m\n",
      "\u001b[0;31mRuntimeError\u001b[0m: element 0 of tensors does not require grad and does not have a grad_fn"
     ]
    }
   ],
   "source": [
    "# optimize\n",
    "optimizer = optim.Adam(policy.parameters(), 1e-3)\n",
    "\n",
    "loss = policy.saved_log_probs[0] * policy.rewards[0]\n",
    "optimizer.zero_grad()\n",
    "loss.backward()\n",
    "optimizer.step()"
   ]
  }
 ],
 "metadata": {
  "kernelspec": {
   "display_name": "Python 2",
   "language": "python",
   "name": "python2"
  },
  "language_info": {
   "codemirror_mode": {
    "name": "ipython",
    "version": 2
   },
   "file_extension": ".py",
   "mimetype": "text/x-python",
   "name": "python",
   "nbconvert_exporter": "python",
   "pygments_lexer": "ipython2",
   "version": "2.7.13"
  }
 },
 "nbformat": 4,
 "nbformat_minor": 2
}
